{
 "cells": [
  {
   "cell_type": "markdown",
   "id": "2a6c79ad",
   "metadata": {},
   "source": [
    "# Image Preprocessing"
   ]
  },
  {
   "cell_type": "code",
   "execution_count": 1,
   "id": "3892db47",
   "metadata": {},
   "outputs": [],
   "source": [
    "# Importing Libraries\n",
    "\n",
    "from tensorflow.keras.layers import Dense, Flatten, Input\n",
    "from tensorflow.keras.models import Model\n",
    "from tensorflow.keras.preprocessing import image\n",
    "from tensorflow.keras.preprocessing.image import ImageDataGenerator, load_img\n",
    "from tensorflow.keras.applications.vgg16 import VGG16, preprocess_input\n",
    "from glob import glob\n",
    "import numpy as np\n",
    "import matplotlib.pyplot as plt"
   ]
  },
  {
   "cell_type": "code",
   "execution_count": 2,
   "id": "dd792c7e",
   "metadata": {},
   "outputs": [],
   "source": [
    "# Loading Model\n",
    "\n",
    "vgg = VGG16(input_shape=[64,64] + [3], weights = 'imagenet', include_top = False)"
   ]
  },
  {
   "cell_type": "code",
   "execution_count": 3,
   "id": "d8ca808b",
   "metadata": {},
   "outputs": [],
   "source": [
    "# don't train existing weights\n",
    "\n",
    "for layer in vgg.layers:\n",
    "    layer.trainable = False\n",
    "    \n",
    "# our layers\n",
    "x = Flatten()(vgg.output)"
   ]
  },
  {
   "cell_type": "code",
   "execution_count": 4,
   "id": "544604ca",
   "metadata": {},
   "outputs": [],
   "source": [
    "# Adding Output layer\n",
    "\n",
    "prediction = Dense(17, activation = 'softmax')(x) "
   ]
  },
  {
   "cell_type": "code",
   "execution_count": 5,
   "id": "fd680a96",
   "metadata": {},
   "outputs": [],
   "source": [
    "# creating a model object\n",
    "\n",
    "model = Model(inputs = vgg.input, outputs = prediction)"
   ]
  },
  {
   "cell_type": "code",
   "execution_count": 6,
   "id": "acac1841",
   "metadata": {},
   "outputs": [
    {
     "name": "stdout",
     "output_type": "stream",
     "text": [
      "Model: \"model\"\n",
      "_________________________________________________________________\n",
      " Layer (type)                Output Shape              Param #   \n",
      "=================================================================\n",
      " input_1 (InputLayer)        [(None, 64, 64, 3)]       0         \n",
      "                                                                 \n",
      " block1_conv1 (Conv2D)       (None, 64, 64, 64)        1792      \n",
      "                                                                 \n",
      " block1_conv2 (Conv2D)       (None, 64, 64, 64)        36928     \n",
      "                                                                 \n",
      " block1_pool (MaxPooling2D)  (None, 32, 32, 64)        0         \n",
      "                                                                 \n",
      " block2_conv1 (Conv2D)       (None, 32, 32, 128)       73856     \n",
      "                                                                 \n",
      " block2_conv2 (Conv2D)       (None, 32, 32, 128)       147584    \n",
      "                                                                 \n",
      " block2_pool (MaxPooling2D)  (None, 16, 16, 128)       0         \n",
      "                                                                 \n",
      " block3_conv1 (Conv2D)       (None, 16, 16, 256)       295168    \n",
      "                                                                 \n",
      " block3_conv2 (Conv2D)       (None, 16, 16, 256)       590080    \n",
      "                                                                 \n",
      " block3_conv3 (Conv2D)       (None, 16, 16, 256)       590080    \n",
      "                                                                 \n",
      " block3_pool (MaxPooling2D)  (None, 8, 8, 256)         0         \n",
      "                                                                 \n",
      " block4_conv1 (Conv2D)       (None, 8, 8, 512)         1180160   \n",
      "                                                                 \n",
      " block4_conv2 (Conv2D)       (None, 8, 8, 512)         2359808   \n",
      "                                                                 \n",
      " block4_conv3 (Conv2D)       (None, 8, 8, 512)         2359808   \n",
      "                                                                 \n",
      " block4_pool (MaxPooling2D)  (None, 4, 4, 512)         0         \n",
      "                                                                 \n",
      " block5_conv1 (Conv2D)       (None, 4, 4, 512)         2359808   \n",
      "                                                                 \n",
      " block5_conv2 (Conv2D)       (None, 4, 4, 512)         2359808   \n",
      "                                                                 \n",
      " block5_conv3 (Conv2D)       (None, 4, 4, 512)         2359808   \n",
      "                                                                 \n",
      " block5_pool (MaxPooling2D)  (None, 2, 2, 512)         0         \n",
      "                                                                 \n",
      " flatten (Flatten)           (None, 2048)              0         \n",
      "                                                                 \n",
      " dense (Dense)               (None, 17)                34833     \n",
      "                                                                 \n",
      "=================================================================\n",
      "Total params: 14,749,521\n",
      "Trainable params: 34,833\n",
      "Non-trainable params: 14,714,688\n",
      "_________________________________________________________________\n"
     ]
    }
   ],
   "source": [
    "model.summary()"
   ]
  },
  {
   "cell_type": "code",
   "execution_count": 7,
   "id": "59e2c75f",
   "metadata": {},
   "outputs": [],
   "source": [
    "# Compile the model\n",
    "\n",
    "model.compile(loss = 'categorical_crossentropy', optimizer = 'adam', metrics = ['accuracy'], run_eagerly = True)"
   ]
  },
  {
   "cell_type": "code",
   "execution_count": 8,
   "id": "f743fc55",
   "metadata": {},
   "outputs": [],
   "source": [
    "# importing datagen library\n",
    "\n",
    "from tensorflow.keras.preprocessing.image import ImageDataGenerator"
   ]
  },
  {
   "cell_type": "code",
   "execution_count": 9,
   "id": "c1289f2e",
   "metadata": {},
   "outputs": [],
   "source": [
    "train_datagen = ImageDataGenerator(rescale = 1./255, shear_range = 0.2, zoom_range = 0.2, horizontal_flip = True)\n",
    "test_datagen = ImageDataGenerator(rescale = 1./255)"
   ]
  },
  {
   "cell_type": "code",
   "execution_count": 10,
   "id": "31b57178",
   "metadata": {},
   "outputs": [
    {
     "name": "stdout",
     "output_type": "stream",
     "text": [
      "Found 655 images belonging to 17 classes.\n",
      "Found 183 images belonging to 17 classes.\n"
     ]
    }
   ],
   "source": [
    "# Loading train and test set\n",
    "\n",
    "X_train = train_datagen.flow_from_directory(r\"D:\\Maheshfiles\\Studies\\ML Projects\\Early Stage Disease Diagnosis System\\Dataset\\train\", target_size = (64, 64), batch_size = 32, class_mode = 'categorical')\n",
    "X_test = test_datagen.flow_from_directory(r\"D:\\Maheshfiles\\Studies\\ML Projects\\Early Stage Disease Diagnosis System\\Dataset\\test\", target_size = (64, 64), batch_size = 32, class_mode = 'categorical')"
   ]
  },
  {
   "cell_type": "code",
   "execution_count": 11,
   "id": "141151db",
   "metadata": {},
   "outputs": [
    {
     "data": {
      "text/plain": [
       "{'Darier_s disease': 0,\n",
       " 'Muehrck-e_s lines': 1,\n",
       " 'aloperia areata': 2,\n",
       " 'beau_s lines': 3,\n",
       " 'bluish nail': 4,\n",
       " 'clubbing': 5,\n",
       " 'eczema': 6,\n",
       " 'half and half nailes (Lindsay_s nails)': 7,\n",
       " 'koilonychia': 8,\n",
       " 'leukonychia': 9,\n",
       " 'onycholycis': 10,\n",
       " 'pale nail': 11,\n",
       " 'red lunula': 12,\n",
       " 'splinter hemmorrage': 13,\n",
       " 'terry_s nail': 14,\n",
       " 'white nail': 15,\n",
       " 'yellow nails': 16}"
      ]
     },
     "execution_count": 11,
     "metadata": {},
     "output_type": "execute_result"
    }
   ],
   "source": [
    "# checking indices\n",
    "\n",
    "X_train.class_indices"
   ]
  },
  {
   "cell_type": "code",
   "execution_count": 12,
   "id": "8811f397",
   "metadata": {},
   "outputs": [
    {
     "name": "stderr",
     "output_type": "stream",
     "text": [
      "C:\\Users\\mahes\\AppData\\Local\\Temp/ipykernel_14776/3545440777.py:3: UserWarning: `Model.fit_generator` is deprecated and will be removed in a future version. Please use `Model.fit`, which supports generators.\n",
      "  model.fit_generator(X_train, steps_per_epoch = len(X_train)//3, epochs = 100, validation_data = X_test, validation_steps = len(X_test)//3)\n"
     ]
    },
    {
     "name": "stdout",
     "output_type": "stream",
     "text": [
      "Epoch 1/100\n",
      "7/7 [==============================] - 21s 3s/step - loss: 3.0359 - accuracy: 0.0531 - val_loss: 2.9225 - val_accuracy: 0.0312\n",
      "Epoch 2/100\n",
      "7/7 [==============================] - 15s 2s/step - loss: 2.7615 - accuracy: 0.1208 - val_loss: 2.9178 - val_accuracy: 0.1094\n",
      "Epoch 3/100\n",
      "7/7 [==============================] - 16s 2s/step - loss: 2.6428 - accuracy: 0.1652 - val_loss: 2.8952 - val_accuracy: 0.1406\n",
      "Epoch 4/100\n",
      "7/7 [==============================] - 18s 2s/step - loss: 2.6735 - accuracy: 0.1875 - val_loss: 2.6377 - val_accuracy: 0.1562\n",
      "Epoch 5/100\n",
      "7/7 [==============================] - 16s 2s/step - loss: 2.5477 - accuracy: 0.2222 - val_loss: 2.5978 - val_accuracy: 0.1406\n",
      "Epoch 6/100\n",
      "7/7 [==============================] - 17s 2s/step - loss: 2.5423 - accuracy: 0.2009 - val_loss: 2.6405 - val_accuracy: 0.1719\n",
      "Epoch 7/100\n",
      "7/7 [==============================] - 17s 2s/step - loss: 2.4574 - accuracy: 0.2991 - val_loss: 2.5143 - val_accuracy: 0.2188\n",
      "Epoch 8/100\n",
      "7/7 [==============================] - 17s 2s/step - loss: 2.4103 - accuracy: 0.2723 - val_loss: 2.5063 - val_accuracy: 0.2344\n",
      "Epoch 9/100\n",
      "7/7 [==============================] - 15s 2s/step - loss: 2.3757 - accuracy: 0.2609 - val_loss: 2.4697 - val_accuracy: 0.2031\n",
      "Epoch 10/100\n",
      "7/7 [==============================] - 17s 2s/step - loss: 2.3188 - accuracy: 0.2812 - val_loss: 2.4742 - val_accuracy: 0.2188\n",
      "Epoch 11/100\n",
      "7/7 [==============================] - 17s 2s/step - loss: 2.2541 - accuracy: 0.3348 - val_loss: 2.1460 - val_accuracy: 0.3125\n",
      "Epoch 12/100\n",
      "7/7 [==============================] - 14s 2s/step - loss: 2.3606 - accuracy: 0.3285 - val_loss: 2.3033 - val_accuracy: 0.3281\n",
      "Epoch 13/100\n",
      "7/7 [==============================] - 15s 2s/step - loss: 2.2262 - accuracy: 0.3816 - val_loss: 2.2437 - val_accuracy: 0.3594\n",
      "Epoch 14/100\n",
      "7/7 [==============================] - 14s 2s/step - loss: 2.1956 - accuracy: 0.3382 - val_loss: 2.3225 - val_accuracy: 0.2500\n",
      "Epoch 15/100\n",
      "7/7 [==============================] - 16s 2s/step - loss: 2.1703 - accuracy: 0.3527 - val_loss: 2.2440 - val_accuracy: 0.2656\n",
      "Epoch 16/100\n",
      "7/7 [==============================] - 15s 2s/step - loss: 2.1673 - accuracy: 0.3527 - val_loss: 2.1489 - val_accuracy: 0.3750\n",
      "Epoch 17/100\n",
      "7/7 [==============================] - 15s 2s/step - loss: 2.0188 - accuracy: 0.4107 - val_loss: 2.1175 - val_accuracy: 0.3750\n",
      "Epoch 18/100\n",
      "7/7 [==============================] - 15s 2s/step - loss: 2.1050 - accuracy: 0.3839 - val_loss: 2.2815 - val_accuracy: 0.2969\n",
      "Epoch 19/100\n",
      "7/7 [==============================] - 16s 2s/step - loss: 2.1452 - accuracy: 0.3865 - val_loss: 2.0057 - val_accuracy: 0.4844\n",
      "Epoch 20/100\n",
      "7/7 [==============================] - 16s 2s/step - loss: 2.0831 - accuracy: 0.4018 - val_loss: 1.9634 - val_accuracy: 0.5000\n",
      "Epoch 21/100\n",
      "7/7 [==============================] - 15s 2s/step - loss: 1.9472 - accuracy: 0.4598 - val_loss: 1.9240 - val_accuracy: 0.4844\n",
      "Epoch 22/100\n",
      "7/7 [==============================] - 14s 2s/step - loss: 2.0154 - accuracy: 0.4203 - val_loss: 1.9034 - val_accuracy: 0.4844\n",
      "Epoch 23/100\n",
      "7/7 [==============================] - 15s 2s/step - loss: 2.0033 - accuracy: 0.4464 - val_loss: 2.0210 - val_accuracy: 0.4531\n",
      "Epoch 24/100\n",
      "7/7 [==============================] - 14s 2s/step - loss: 2.0107 - accuracy: 0.3865 - val_loss: 1.8332 - val_accuracy: 0.4844\n",
      "Epoch 25/100\n",
      "7/7 [==============================] - 15s 2s/step - loss: 1.9661 - accuracy: 0.4330 - val_loss: 2.0065 - val_accuracy: 0.4062\n",
      "Epoch 26/100\n",
      "7/7 [==============================] - 15s 2s/step - loss: 1.8872 - accuracy: 0.5000 - val_loss: 2.0053 - val_accuracy: 0.4531\n",
      "Epoch 27/100\n",
      "7/7 [==============================] - 14s 2s/step - loss: 1.9135 - accuracy: 0.4734 - val_loss: 1.8353 - val_accuracy: 0.4844\n",
      "Epoch 28/100\n",
      "7/7 [==============================] - 15s 2s/step - loss: 1.7331 - accuracy: 0.5402 - val_loss: 1.7490 - val_accuracy: 0.5000\n",
      "Epoch 29/100\n",
      "7/7 [==============================] - 15s 2s/step - loss: 1.8408 - accuracy: 0.4821 - val_loss: 1.7519 - val_accuracy: 0.4844\n",
      "Epoch 30/100\n",
      "7/7 [==============================] - 15s 2s/step - loss: 1.7657 - accuracy: 0.4955 - val_loss: 1.8412 - val_accuracy: 0.4219\n",
      "Epoch 31/100\n",
      "7/7 [==============================] - 14s 2s/step - loss: 1.8783 - accuracy: 0.4831 - val_loss: 1.7480 - val_accuracy: 0.5312\n",
      "Epoch 32/100\n",
      "7/7 [==============================] - 15s 2s/step - loss: 1.7258 - accuracy: 0.4911 - val_loss: 1.9620 - val_accuracy: 0.5156\n",
      "Epoch 33/100\n",
      "7/7 [==============================] - 15s 2s/step - loss: 1.8198 - accuracy: 0.4911 - val_loss: 1.6700 - val_accuracy: 0.5781\n",
      "Epoch 34/100\n",
      "7/7 [==============================] - 14s 2s/step - loss: 1.9188 - accuracy: 0.4638 - val_loss: 1.7730 - val_accuracy: 0.5000\n",
      "Epoch 35/100\n",
      "7/7 [==============================] - 14s 2s/step - loss: 1.7150 - accuracy: 0.5749 - val_loss: 1.7730 - val_accuracy: 0.5000\n",
      "Epoch 36/100\n",
      "7/7 [==============================] - 15s 2s/step - loss: 1.7297 - accuracy: 0.5268 - val_loss: 1.6139 - val_accuracy: 0.5312\n",
      "Epoch 37/100\n",
      "7/7 [==============================] - 16s 2s/step - loss: 1.7435 - accuracy: 0.4866 - val_loss: 1.6017 - val_accuracy: 0.5156\n",
      "Epoch 38/100\n",
      "7/7 [==============================] - 15s 2s/step - loss: 1.6941 - accuracy: 0.5089 - val_loss: 1.5587 - val_accuracy: 0.5625\n",
      "Epoch 39/100\n",
      "7/7 [==============================] - 15s 2s/step - loss: 1.6230 - accuracy: 0.5536 - val_loss: 1.6598 - val_accuracy: 0.5156\n",
      "Epoch 40/100\n",
      "7/7 [==============================] - 15s 2s/step - loss: 1.6536 - accuracy: 0.5804 - val_loss: 1.7128 - val_accuracy: 0.4688\n",
      "Epoch 41/100\n",
      "7/7 [==============================] - 15s 2s/step - loss: 1.7493 - accuracy: 0.4911 - val_loss: 1.6210 - val_accuracy: 0.5156\n",
      "Epoch 42/100\n",
      "7/7 [==============================] - 15s 2s/step - loss: 1.7073 - accuracy: 0.5402 - val_loss: 1.6556 - val_accuracy: 0.5625\n",
      "Epoch 43/100\n",
      "7/7 [==============================] - 16s 2s/step - loss: 1.7124 - accuracy: 0.5402 - val_loss: 1.7480 - val_accuracy: 0.4531\n",
      "Epoch 44/100\n",
      "7/7 [==============================] - 15s 2s/step - loss: 1.5326 - accuracy: 0.5893 - val_loss: 1.5718 - val_accuracy: 0.5469\n",
      "Epoch 45/100\n",
      "7/7 [==============================] - 14s 2s/step - loss: 1.6815 - accuracy: 0.5314 - val_loss: 1.6541 - val_accuracy: 0.4688\n",
      "Epoch 46/100\n",
      "7/7 [==============================] - 15s 2s/step - loss: 1.5793 - accuracy: 0.5580 - val_loss: 1.6405 - val_accuracy: 0.5312\n",
      "Epoch 47/100\n",
      "7/7 [==============================] - 15s 2s/step - loss: 1.5715 - accuracy: 0.5759 - val_loss: 1.4612 - val_accuracy: 0.5938\n",
      "Epoch 48/100\n",
      "7/7 [==============================] - 15s 2s/step - loss: 1.4975 - accuracy: 0.6250 - val_loss: 1.4819 - val_accuracy: 0.5938\n",
      "Epoch 49/100\n",
      "7/7 [==============================] - 15s 2s/step - loss: 1.6173 - accuracy: 0.5714 - val_loss: 1.4092 - val_accuracy: 0.6250\n",
      "Epoch 50/100\n",
      "7/7 [==============================] - 15s 2s/step - loss: 1.5324 - accuracy: 0.5893 - val_loss: 1.3506 - val_accuracy: 0.6562\n",
      "Epoch 51/100\n",
      "7/7 [==============================] - 15s 2s/step - loss: 1.5273 - accuracy: 0.6161 - val_loss: 1.5048 - val_accuracy: 0.5625\n",
      "Epoch 52/100\n",
      "7/7 [==============================] - 15s 2s/step - loss: 1.5687 - accuracy: 0.5491 - val_loss: 1.3973 - val_accuracy: 0.5938\n",
      "Epoch 53/100\n",
      "7/7 [==============================] - 14s 2s/step - loss: 1.4680 - accuracy: 0.6232 - val_loss: 1.4157 - val_accuracy: 0.5781\n",
      "Epoch 54/100\n",
      "7/7 [==============================] - 15s 2s/step - loss: 1.4320 - accuracy: 0.5982 - val_loss: 1.4184 - val_accuracy: 0.6250\n",
      "Epoch 55/100\n",
      "7/7 [==============================] - 15s 2s/step - loss: 1.5206 - accuracy: 0.5714 - val_loss: 1.3459 - val_accuracy: 0.6562\n",
      "Epoch 56/100\n",
      "7/7 [==============================] - 15s 2s/step - loss: 1.4938 - accuracy: 0.6250 - val_loss: 1.4241 - val_accuracy: 0.6094\n",
      "Epoch 57/100\n",
      "7/7 [==============================] - 15s 2s/step - loss: 1.4409 - accuracy: 0.6250 - val_loss: 1.3335 - val_accuracy: 0.6719\n",
      "Epoch 58/100\n",
      "7/7 [==============================] - 15s 2s/step - loss: 1.4698 - accuracy: 0.5982 - val_loss: 1.4494 - val_accuracy: 0.5312\n",
      "Epoch 59/100\n"
     ]
    },
    {
     "name": "stdout",
     "output_type": "stream",
     "text": [
      "7/7 [==============================] - 14s 2s/step - loss: 1.5518 - accuracy: 0.5942 - val_loss: 1.4456 - val_accuracy: 0.5781\n",
      "Epoch 60/100\n",
      "7/7 [==============================] - 15s 2s/step - loss: 1.3644 - accuracy: 0.6652 - val_loss: 1.3051 - val_accuracy: 0.6094\n",
      "Epoch 61/100\n",
      "7/7 [==============================] - 14s 2s/step - loss: 1.4671 - accuracy: 0.5749 - val_loss: 1.3056 - val_accuracy: 0.7031\n",
      "Epoch 62/100\n",
      "7/7 [==============================] - 15s 2s/step - loss: 1.4370 - accuracy: 0.6339 - val_loss: 1.1252 - val_accuracy: 0.7656\n",
      "Epoch 63/100\n",
      "7/7 [==============================] - 14s 2s/step - loss: 1.4035 - accuracy: 0.6473 - val_loss: 1.3357 - val_accuracy: 0.6250\n",
      "Epoch 64/100\n",
      "7/7 [==============================] - 14s 2s/step - loss: 1.4986 - accuracy: 0.6039 - val_loss: 1.3690 - val_accuracy: 0.6562\n",
      "Epoch 65/100\n",
      "7/7 [==============================] - 14s 2s/step - loss: 1.3782 - accuracy: 0.6329 - val_loss: 1.2939 - val_accuracy: 0.7344\n",
      "Epoch 66/100\n",
      "7/7 [==============================] - 15s 2s/step - loss: 1.4182 - accuracy: 0.5938 - val_loss: 1.3060 - val_accuracy: 0.7031\n",
      "Epoch 67/100\n",
      "7/7 [==============================] - 14s 2s/step - loss: 1.4501 - accuracy: 0.6329 - val_loss: 1.3888 - val_accuracy: 0.6094\n",
      "Epoch 68/100\n",
      "7/7 [==============================] - 15s 2s/step - loss: 1.3481 - accuracy: 0.6518 - val_loss: 1.2808 - val_accuracy: 0.6562\n",
      "Epoch 69/100\n",
      "7/7 [==============================] - 14s 2s/step - loss: 1.2769 - accuracy: 0.7005 - val_loss: 1.2882 - val_accuracy: 0.6719\n",
      "Epoch 70/100\n",
      "7/7 [==============================] - 15s 2s/step - loss: 1.3785 - accuracy: 0.6384 - val_loss: 1.2238 - val_accuracy: 0.6719\n",
      "Epoch 71/100\n",
      "7/7 [==============================] - 15s 2s/step - loss: 1.3384 - accuracy: 0.6205 - val_loss: 1.2087 - val_accuracy: 0.6875\n",
      "Epoch 72/100\n",
      "7/7 [==============================] - 14s 2s/step - loss: 1.3188 - accuracy: 0.6812 - val_loss: 1.1780 - val_accuracy: 0.6875\n",
      "Epoch 73/100\n",
      "7/7 [==============================] - 15s 2s/step - loss: 1.3362 - accuracy: 0.6652 - val_loss: 1.2000 - val_accuracy: 0.7188\n",
      "Epoch 74/100\n",
      "7/7 [==============================] - 15s 2s/step - loss: 1.2379 - accuracy: 0.7098 - val_loss: 1.1669 - val_accuracy: 0.6875\n",
      "Epoch 75/100\n",
      "7/7 [==============================] - 15s 2s/step - loss: 1.2714 - accuracy: 0.7009 - val_loss: 1.2735 - val_accuracy: 0.5938\n",
      "Epoch 76/100\n",
      "7/7 [==============================] - 15s 2s/step - loss: 1.3033 - accuracy: 0.6429 - val_loss: 1.2914 - val_accuracy: 0.5938\n",
      "Epoch 77/100\n",
      "7/7 [==============================] - 15s 2s/step - loss: 1.3260 - accuracy: 0.6518 - val_loss: 1.2437 - val_accuracy: 0.6875\n",
      "Epoch 78/100\n",
      "7/7 [==============================] - 15s 2s/step - loss: 1.2875 - accuracy: 0.6562 - val_loss: 1.0226 - val_accuracy: 0.7500\n",
      "Epoch 79/100\n",
      "7/7 [==============================] - 15s 2s/step - loss: 1.2586 - accuracy: 0.7098 - val_loss: 1.0532 - val_accuracy: 0.7656\n",
      "Epoch 80/100\n",
      "7/7 [==============================] - 15s 2s/step - loss: 1.2693 - accuracy: 0.7054 - val_loss: 1.1519 - val_accuracy: 0.7656\n",
      "Epoch 81/100\n",
      "7/7 [==============================] - 14s 2s/step - loss: 1.2352 - accuracy: 0.6652 - val_loss: 1.3172 - val_accuracy: 0.6562\n",
      "Epoch 82/100\n",
      "7/7 [==============================] - 12s 2s/step - loss: 1.2182 - accuracy: 0.7005 - val_loss: 1.0310 - val_accuracy: 0.7500\n",
      "Epoch 83/100\n",
      "7/7 [==============================] - 13s 2s/step - loss: 1.2613 - accuracy: 0.6875 - val_loss: 1.1845 - val_accuracy: 0.6094\n",
      "Epoch 84/100\n",
      "7/7 [==============================] - 13s 2s/step - loss: 1.2422 - accuracy: 0.7277 - val_loss: 1.0988 - val_accuracy: 0.7500\n",
      "Epoch 85/100\n",
      "7/7 [==============================] - 13s 2s/step - loss: 1.2676 - accuracy: 0.6652 - val_loss: 1.0403 - val_accuracy: 0.7656\n",
      "Epoch 86/100\n",
      "7/7 [==============================] - 14s 2s/step - loss: 1.2442 - accuracy: 0.6920 - val_loss: 1.0904 - val_accuracy: 0.7344\n",
      "Epoch 87/100\n",
      "7/7 [==============================] - 12s 2s/step - loss: 1.1899 - accuracy: 0.6667 - val_loss: 1.1187 - val_accuracy: 0.7031\n",
      "Epoch 88/100\n",
      "7/7 [==============================] - 13s 2s/step - loss: 1.2416 - accuracy: 0.6908 - val_loss: 1.1791 - val_accuracy: 0.7031\n",
      "Epoch 89/100\n",
      "7/7 [==============================] - 12s 2s/step - loss: 1.2167 - accuracy: 0.6618 - val_loss: 0.9997 - val_accuracy: 0.7656\n",
      "Epoch 90/100\n",
      "7/7 [==============================] - 12s 2s/step - loss: 1.1943 - accuracy: 0.7246 - val_loss: 1.1635 - val_accuracy: 0.7188\n",
      "Epoch 91/100\n",
      "7/7 [==============================] - 13s 2s/step - loss: 1.1301 - accuracy: 0.7098 - val_loss: 1.0444 - val_accuracy: 0.7812\n",
      "Epoch 92/100\n",
      "7/7 [==============================] - 13s 2s/step - loss: 1.1366 - accuracy: 0.7009 - val_loss: 1.0162 - val_accuracy: 0.7656\n",
      "Epoch 93/100\n",
      "7/7 [==============================] - 13s 2s/step - loss: 1.1765 - accuracy: 0.7500 - val_loss: 1.0995 - val_accuracy: 0.7500\n",
      "Epoch 94/100\n",
      "7/7 [==============================] - 13s 2s/step - loss: 1.2659 - accuracy: 0.7054 - val_loss: 1.1197 - val_accuracy: 0.7344\n",
      "Epoch 95/100\n",
      "7/7 [==============================] - 14s 2s/step - loss: 1.1450 - accuracy: 0.6920 - val_loss: 1.0634 - val_accuracy: 0.7031\n",
      "Epoch 96/100\n",
      "7/7 [==============================] - 14s 2s/step - loss: 1.2207 - accuracy: 0.6920 - val_loss: 1.0033 - val_accuracy: 0.7656\n",
      "Epoch 97/100\n",
      "7/7 [==============================] - 14s 2s/step - loss: 1.1769 - accuracy: 0.6920 - val_loss: 0.9771 - val_accuracy: 0.8125\n",
      "Epoch 98/100\n",
      "7/7 [==============================] - 13s 2s/step - loss: 1.2088 - accuracy: 0.7277 - val_loss: 1.1401 - val_accuracy: 0.7500\n",
      "Epoch 99/100\n",
      "7/7 [==============================] - 12s 2s/step - loss: 1.1984 - accuracy: 0.7343 - val_loss: 1.0984 - val_accuracy: 0.7656\n",
      "Epoch 100/100\n",
      "7/7 [==============================] - 12s 2s/step - loss: 1.1986 - accuracy: 0.6812 - val_loss: 0.8621 - val_accuracy: 0.7656\n"
     ]
    },
    {
     "data": {
      "text/plain": [
       "<keras.callbacks.History at 0x1e3d43a29a0>"
      ]
     },
     "execution_count": 12,
     "metadata": {},
     "output_type": "execute_result"
    }
   ],
   "source": [
    "# Fiiting the model\n",
    "\n",
    "model.fit_generator(X_train, steps_per_epoch = len(X_train)//3, epochs = 100, validation_data = X_test, validation_steps = len(X_test)//3)"
   ]
  },
  {
   "cell_type": "code",
   "execution_count": 13,
   "id": "f435682f",
   "metadata": {},
   "outputs": [],
   "source": [
    "model.save(\"Vgg-16-nail-disease.h5\")"
   ]
  },
  {
   "cell_type": "code",
   "execution_count": null,
   "id": "c6c07b9e",
   "metadata": {},
   "outputs": [],
   "source": []
  }
 ],
 "metadata": {
  "kernelspec": {
   "display_name": "Python 3 (ipykernel)",
   "language": "python",
   "name": "python3"
  },
  "language_info": {
   "codemirror_mode": {
    "name": "ipython",
    "version": 3
   },
   "file_extension": ".py",
   "mimetype": "text/x-python",
   "name": "python",
   "nbconvert_exporter": "python",
   "pygments_lexer": "ipython3",
   "version": "3.9.7"
  }
 },
 "nbformat": 4,
 "nbformat_minor": 5
}
