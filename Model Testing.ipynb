{
 "cells": [
  {
   "cell_type": "code",
   "execution_count": 33,
   "id": "eebe31cc",
   "metadata": {},
   "outputs": [],
   "source": [
    "from tensorflow.keras.models import load_model\n",
    "from tensorflow.keras.preprocessing import image\n",
    "from tensorflow.keras.applications.inception_v3 import preprocess_input\n",
    "import numpy as np\n",
    "import cv2"
   ]
  },
  {
   "cell_type": "code",
   "execution_count": 2,
   "id": "3eaae129",
   "metadata": {},
   "outputs": [],
   "source": [
    "# loading the saved model\n",
    "\n",
    "model = load_model('vgg-16-nail-disease.h5')"
   ]
  },
  {
   "cell_type": "code",
   "execution_count": 94,
   "id": "d42bf63e",
   "metadata": {},
   "outputs": [],
   "source": [
    "img = image.load_img(r'D:\\Maheshfiles\\Studies\\ML Projects\\Early Stage Disease Diagnosis System\\Dataset\\test\\bluish nail\\48.png', target_size = (224,224))"
   ]
  },
  {
   "cell_type": "code",
   "execution_count": 95,
   "id": "9947046d",
   "metadata": {},
   "outputs": [],
   "source": [
    "x = image.img_to_array(img)"
   ]
  },
  {
   "cell_type": "code",
   "execution_count": 96,
   "id": "e5d0d501",
   "metadata": {},
   "outputs": [],
   "source": [
    "img_data = cv2.resize(x, (64,64))\n",
    "img_data = np.expand_dims(img_data, axis = 0)"
   ]
  },
  {
   "cell_type": "code",
   "execution_count": 97,
   "id": "59887956",
   "metadata": {},
   "outputs": [
    {
     "name": "stdout",
     "output_type": "stream",
     "text": [
      "1/1 [==============================] - 0s 32ms/step\n"
     ]
    }
   ],
   "source": [
    "x = model.predict(img_data)"
   ]
  },
  {
   "cell_type": "code",
   "execution_count": 98,
   "id": "f2baadaa",
   "metadata": {},
   "outputs": [],
   "source": [
    "index = ['Darier_s disease', 'Muehrck-e_s lines', 'aloperia areata', 'beau_s lines', 'bluish nail', 'clubbing', 'eczema', 'half and half nailes (Lindsay_s nails)', 'koilonychia', 'leukonychia', 'onycholycis', 'pale nail', 'red lunula', 'splinter hemmorrage', 'terry_s nail', 'white nail', 'yellow nails']"
   ]
  },
  {
   "cell_type": "code",
   "execution_count": 99,
   "id": "b8952d82",
   "metadata": {},
   "outputs": [],
   "source": [
    "result = index[np.argmax(x)]"
   ]
  },
  {
   "cell_type": "code",
   "execution_count": 100,
   "id": "ecb88307",
   "metadata": {},
   "outputs": [
    {
     "data": {
      "text/plain": [
       "'white nail'"
      ]
     },
     "execution_count": 100,
     "metadata": {},
     "output_type": "execute_result"
    }
   ],
   "source": [
    "result"
   ]
  },
  {
   "cell_type": "code",
   "execution_count": null,
   "id": "3c6b80a5",
   "metadata": {},
   "outputs": [],
   "source": []
  },
  {
   "cell_type": "code",
   "execution_count": null,
   "id": "fb974fc1",
   "metadata": {},
   "outputs": [],
   "source": []
  }
 ],
 "metadata": {
  "kernelspec": {
   "display_name": "Python 3 (ipykernel)",
   "language": "python",
   "name": "python3"
  },
  "language_info": {
   "codemirror_mode": {
    "name": "ipython",
    "version": 3
   },
   "file_extension": ".py",
   "mimetype": "text/x-python",
   "name": "python",
   "nbconvert_exporter": "python",
   "pygments_lexer": "ipython3",
   "version": "3.9.7"
  }
 },
 "nbformat": 4,
 "nbformat_minor": 5
}
